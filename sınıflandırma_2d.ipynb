{
  "nbformat": 4,
  "nbformat_minor": 0,
  "metadata": {
    "colab": {
      "name": "sınıflandırma.2d.ipynb",
      "provenance": [],
      "collapsed_sections": [],
      "include_colab_link": true
    },
    "kernelspec": {
      "name": "python3",
      "display_name": "Python 3"
    },
    "language_info": {
      "name": "python"
    }
  },
  "cells": [
    {
      "cell_type": "markdown",
      "metadata": {
        "id": "view-in-github",
        "colab_type": "text"
      },
      "source": [
        "<a href=\"https://colab.research.google.com/github/gulcandll/EESEC440/blob/main/s%C4%B1n%C4%B1fland%C4%B1rma_2d.ipynb\" target=\"_parent\"><img src=\"https://colab.research.google.com/assets/colab-badge.svg\" alt=\"Open In Colab\"/></a>"
      ]
    },
    {
      "cell_type": "markdown",
      "metadata": {
        "id": "c-ott9DulRJt"
      },
      "source": [
        "En başta kütüphaneleri dahil ediyoruz.\n",
        "\n",
        "First we import the libraries."
      ]
    },
    {
      "cell_type": "code",
      "metadata": {
        "id": "V7FdqUprllgT"
      },
      "source": [
        "import tensorflow as tf # Google tarafından geliştirilen TF kütüphanesi, en ciddi rakibi Facebook tarfından geliştirilen Pytorch kütüphanesi\n",
        "import matplotlib.pyplot as plt # grafik çizdirmek için\n",
        "import numpy as np # numerical python kütüphanesi\n",
        "import pandas as pd\n",
        "import sys\n",
        "from numpy import random # rasgele veri üretmek için kullanacağımız kütüphane"
      ],
      "execution_count": 17,
      "outputs": []
    },
    {
      "cell_type": "markdown",
      "metadata": {
        "id": "G7OVykO0nMif"
      },
      "source": [
        "Buğün bakacağımız örnekte kendimiz sentetik 2-boyutlu veri üretip ardından bu veriyi etikleyecegiz.Üreteceğimiz 2-boyutlu veri taoplam n=1000 tane olacak. Bu veri kartezyen koordinat sistemi üzerinden x ve y eksenlerinde -1`den 1`e kadar yer alan aralıkta değer alan rasgele noktalar şeklinde düşünülebilir. Kartezyon koordinat sisteminde e ekseni x1, y= ekseni ise x2 isimlendirecek. Burada x = (x1, x2)^T bizim özellik vektörümüz."
      ]
    },
    {
      "cell_type": "code",
      "metadata": {
        "id": "8V0CNtPmpQYg"
      },
      "source": [
        "n = 1000 # veri sayısı n = 20 (n = 1000 bu örnek için iyi bir seçim)\n",
        "x = 2*random.rand(n,2)-1\n",
        "#print(x)\n",
        "#print(x[0,1])"
      ],
      "execution_count": 19,
      "outputs": []
    },
    {
      "cell_type": "markdown",
      "metadata": {
        "id": "-ALsrZ-jqJSi"
      },
      "source": [
        "Rasgele ürettiğimiz veriyi şimdi çizdirelim.\n",
        "\n",
        "Now let´s plot the ramdomly generated 2d data."
      ]
    },
    {
      "cell_type": "code",
      "metadata": {
        "colab": {
          "base_uri": "https://localhost:8080/",
          "height": 312
        },
        "id": "Kef6M8B0qcpO",
        "outputId": "16088bab-9bd0-4290-a491-1047303384f2"
      },
      "source": [
        "plt.scatter(x[:,0],x[:,1], marker='.', color='b')\n",
        "# plt.legend(loc='upper right')\n",
        "plt.title(\"Generated 2d data\")\n",
        "plt.xlabel(\"x1\")\n",
        "plt.ylabel(\"x2\")"
      ],
      "execution_count": 20,
      "outputs": [
        {
          "output_type": "execute_result",
          "data": {
            "text/plain": [
              "Text(0, 0.5, 'x2')"
            ]
          },
          "metadata": {
            "tags": []
          },
          "execution_count": 20
        },
        {
          "output_type": "display_data",
          "data": {
            "image/png": "[encoded data removed]",
            "text/plain": [
              "<Figure size 432x288 with 1 Axes>"
            ]
          },
          "metadata": {
            "tags": [],
            "needs_background": "light"
          }
        }
      ]
    },
    {
      "cell_type": "markdown",
      "metadata": {
        "id": "BkTNWdYxrXB3"
      },
      "source": [
        "Şimdi hedef verisini (target data) oluşturalım. Yani ürettiğimiz veriyi etiketleyim (data annotation).Sınıflandırmayı dilediğimiz gibi yapabiliriz bu örnekte. Burada biz birim çember içerisinde yer alan noktaları 1, dışında kalan noktaları 0 olarak etiketleyeceğiz."
      ]
    },
    {
      "cell_type": "code",
      "metadata": {
        "id": "wvP3548qsS_H"
      },
      "source": [
        "t = np.zeros((n,1))\n",
        "#print(t)\n",
        "for i, point in enumerate(x):\n",
        "  if (point[0]**2 + point[1]**2)**(0.5) <= 1:\n",
        "    t[i] = 1\n",
        "#print(\"Güncellenmiş hedef verisini yazdıralım.\")\n",
        "#print(t)"
      ],
      "execution_count": 23,
      "outputs": []
    },
    {
      "cell_type": "markdown",
      "metadata": {
        "id": "7Th0n_Frt8tZ"
      },
      "source": [
        "Şimdi tekrar 2b veriyi görselleştirelim ama bu sefer birim çemberin içinde kalan veriyi (yani 1 etiketine sahip olan noktaları) kırmızı renkte çizdirelim."
      ]
    },
    {
      "cell_type": "code",
      "metadata": {
        "colab": {
          "base_uri": "https://localhost:8080/",
          "height": 312
        },
        "id": "T846fBBVuhVQ",
        "outputId": "6d06bd87-8c68-4eac-bd9a-4aae5c4c73e0"
      },
      "source": [
        "for i, label in enumerate(t):\n",
        "  if (label):\n",
        "    plt.scatter(x[i,0],x[i,1], marker='.', color='r') # edgecolors='none'\n",
        "  else:\n",
        "    plt.scatter(x[i,0],x[i,1], marker='.', color='b') # edgecolors='none'\n",
        "plt.title(\"Generated 2d data\")\n",
        "plt.xlabel(\"x1\")\n",
        "plt.ylabel(\"x2\")"
      ],
      "execution_count": 24,
      "outputs": [
        {
          "output_type": "execute_result",
          "data": {
            "text/plain": [
              "Text(0, 0.5, 'x2')"
            ]
          },
          "metadata": {
            "tags": []
          },
          "execution_count": 24
        },
        {
          "output_type": "display_data",
          "data": {
            "image/png": "[encoded data removed]",
            "text/plain": [
              "<Figure size 432x288 with 1 Axes>"
            ]
          },
          "metadata": {
            "tags": [],
            "needs_background": "light"
          }
        }
      ]
    },
    {
      "cell_type": "markdown",
      "metadata": {
        "id": "BoJ_s-YExEyc"
      },
      "source": [
        "TF kütüphanesinin içerisinde yer lan Keras kütüphanesiyle bir tane çok katmanlı sinir ağı (multi layer perceptron-MLP) oluşturalım.Giriş sayısının iki, çıkış sayısını bir olduğunu, gizli katman (hidden layer) sayısını ve bu katmanlardaki nöron sayısını (number of neurons) ve de hangi aktivasyon fonksiyonunu (activation function) kullandığımızı adım adım seçeceğiz."
      ]
    },
    {
      "cell_type": "code",
      "metadata": {
        "id": "HYxOy9gpycil"
      },
      "source": [
        "model = tf.keras.models.Sequential(layers=None, name='2d_classifier_MLP')\n",
        "model.add(tf.keras.layers.Dense(20, input_dim = 2, activation = 'tanh', name='HL1'))\n",
        "model.add(tf.keras.layers.Dense(30, activation = 'tanh', name='HL2'))\n",
        "model.add(tf.keras.layers.Dense(40, activation = 'tanh', name='HL3'))\n",
        "model.add(tf.keras.layers.Dense(30, activation = 'tanh', name='HL4'))\n",
        "model.add(tf.keras.layers.Dense(1, activation = 'tanh', name='outputLayer'))"
      ],
      "execution_count": 26,
      "outputs": []
    },
    {
      "cell_type": "markdown",
      "metadata": {
        "id": "glMUbUJp1R4_"
      },
      "source": [
        "Yukarıdaki kodda yapay sinir ağımızın yapıını (structure) yani katman sayısı, katmanlardaki nöron mıktarı, nöron çıkışlarında kullanılan aktivaston fonksiyon tiplerini belirledik. Bir sondaki adım olarak öğrenme (learning) işlemini başlatacağız. Şimdi öğrenme işleminin nasıl olacağını belirleyelim."
      ]
    },
    {
      "cell_type": "code",
      "metadata": {
        "colab": {
          "base_uri": "https://localhost:8080/"
        },
        "id": "8vaT_rPd2XxX",
        "outputId": "9867f4cb-e7ae-4802-97b5-e097b2be7359"
      },
      "source": [
        "model.compile(optimizer='adam', loss='mean_squared_error', metrics='accuracy')\n",
        "model.summary()"
      ],
      "execution_count": 27,
      "outputs": [
        {
          "output_type": "stream",
          "text": [
            "Model: \"2d_classifier_MLP\"\n",
            "_________________________________________________________________\n",
            "Layer (type)                 Output Shape              Param #   \n",
            "=================================================================\n",
            "HL1 (Dense)                  (None, 20)                60        \n",
            "_________________________________________________________________\n",
            "HL2 (Dense)                  (None, 30)                630       \n",
            "_________________________________________________________________\n",
            "HL3 (Dense)                  (None, 40)                1240      \n",
            "_________________________________________________________________\n",
            "HL4 (Dense)                  (None, 30)                1230      \n",
            "_________________________________________________________________\n",
            "outputLayer (Dense)          (None, 1)                 31        \n",
            "=================================================================\n",
            "Total params: 3,191\n",
            "Trainable params: 3,191\n",
            "Non-trainable params: 0\n",
            "_________________________________________________________________\n"
          ],
          "name": "stdout"
        }
      ]
    },
    {
      "cell_type": "markdown",
      "metadata": {
        "id": "7N56AgV020nG"
      },
      "source": [
        "Son olarak konfigürasyonunu tamamladığımız çok katmanlı yapay sinir ağının eğitimini başlatıyoruz."
      ]
    },
    {
      "cell_type": "code",
      "metadata": {
        "colab": {
          "base_uri": "https://localhost:8080/"
        },
        "id": "PV_YgFHp3LgA",
        "outputId": "2229bb36-47ad-4708-e694-cb40072b6061"
      },
      "source": [
        "history = model.fit(x, t, epochs=200, verbose=1, validation_split=0.2)"
      ],
      "execution_count": 28,
      "outputs": [
        {
          "output_type": "stream",
          "text": [
            "Epoch 1/200\n",
            "25/25 [==============================] - 1s 11ms/step - loss: 0.5987 - accuracy: 0.2210 - val_loss: 0.1764 - val_accuracy: 0.8100\n",
            "Epoch 2/200\n",
            "25/25 [==============================] - 0s 4ms/step - loss: 0.1646 - accuracy: 0.8019 - val_loss: 0.1559 - val_accuracy: 0.8050\n",
            "Epoch 3/200\n",
            "25/25 [==============================] - 0s 4ms/step - loss: 0.1538 - accuracy: 0.8053 - val_loss: 0.1531 - val_accuracy: 0.8050\n",
            "Epoch 4/200\n",
            "25/25 [==============================] - 0s 4ms/step - loss: 0.1436 - accuracy: 0.8181 - val_loss: 0.1509 - val_accuracy: 0.8050\n",
            "Epoch 5/200\n",
            "25/25 [==============================] - 0s 4ms/step - loss: 0.1576 - accuracy: 0.7883 - val_loss: 0.1465 - val_accuracy: 0.8050\n",
            "Epoch 6/200\n",
            "25/25 [==============================] - 0s 3ms/step - loss: 0.1516 - accuracy: 0.7960 - val_loss: 0.1435 - val_accuracy: 0.8050\n",
            "Epoch 7/200\n",
            "25/25 [==============================] - 0s 3ms/step - loss: 0.1556 - accuracy: 0.7810 - val_loss: 0.1404 - val_accuracy: 0.8050\n",
            "Epoch 8/200\n",
            "25/25 [==============================] - 0s 4ms/step - loss: 0.1465 - accuracy: 0.7938 - val_loss: 0.1367 - val_accuracy: 0.8050\n",
            "Epoch 9/200\n",
            "25/25 [==============================] - 0s 3ms/step - loss: 0.1400 - accuracy: 0.7924 - val_loss: 0.1338 - val_accuracy: 0.8050\n",
            "Epoch 10/200\n",
            "25/25 [==============================] - 0s 4ms/step - loss: 0.1242 - accuracy: 0.8180 - val_loss: 0.1306 - val_accuracy: 0.8050\n",
            "Epoch 11/200\n",
            "25/25 [==============================] - 0s 4ms/step - loss: 0.1353 - accuracy: 0.7860 - val_loss: 0.1321 - val_accuracy: 0.8200\n",
            "Epoch 12/200\n",
            "25/25 [==============================] - 0s 4ms/step - loss: 0.1284 - accuracy: 0.8061 - val_loss: 0.1274 - val_accuracy: 0.8100\n",
            "Epoch 13/200\n",
            "25/25 [==============================] - 0s 3ms/step - loss: 0.1254 - accuracy: 0.8112 - val_loss: 0.1282 - val_accuracy: 0.8200\n",
            "Epoch 14/200\n",
            "25/25 [==============================] - 0s 4ms/step - loss: 0.1211 - accuracy: 0.8218 - val_loss: 0.1273 - val_accuracy: 0.8250\n",
            "Epoch 15/200\n",
            "25/25 [==============================] - 0s 4ms/step - loss: 0.1315 - accuracy: 0.7805 - val_loss: 0.1260 - val_accuracy: 0.8100\n",
            "Epoch 16/200\n",
            "25/25 [==============================] - 0s 4ms/step - loss: 0.1274 - accuracy: 0.7941 - val_loss: 0.1284 - val_accuracy: 0.8050\n",
            "Epoch 17/200\n",
            "25/25 [==============================] - 0s 4ms/step - loss: 0.1329 - accuracy: 0.8037 - val_loss: 0.1262 - val_accuracy: 0.8400\n",
            "Epoch 18/200\n",
            "25/25 [==============================] - 0s 4ms/step - loss: 0.1336 - accuracy: 0.8026 - val_loss: 0.1306 - val_accuracy: 0.8100\n",
            "Epoch 19/200\n",
            "25/25 [==============================] - 0s 3ms/step - loss: 0.1202 - accuracy: 0.8035 - val_loss: 0.1257 - val_accuracy: 0.8450\n",
            "Epoch 20/200\n",
            "25/25 [==============================] - 0s 4ms/step - loss: 0.1187 - accuracy: 0.8062 - val_loss: 0.1247 - val_accuracy: 0.8200\n",
            "Epoch 21/200\n",
            "25/25 [==============================] - 0s 3ms/step - loss: 0.1129 - accuracy: 0.8419 - val_loss: 0.1292 - val_accuracy: 0.8100\n",
            "Epoch 22/200\n",
            "25/25 [==============================] - 0s 3ms/step - loss: 0.1237 - accuracy: 0.8087 - val_loss: 0.1252 - val_accuracy: 0.8300\n",
            "Epoch 23/200\n",
            "25/25 [==============================] - 0s 3ms/step - loss: 0.1077 - accuracy: 0.8301 - val_loss: 0.1248 - val_accuracy: 0.8300\n",
            "Epoch 24/200\n",
            "25/25 [==============================] - 0s 3ms/step - loss: 0.1210 - accuracy: 0.8076 - val_loss: 0.1229 - val_accuracy: 0.8200\n",
            "Epoch 25/200\n",
            "25/25 [==============================] - 0s 3ms/step - loss: 0.1179 - accuracy: 0.8386 - val_loss: 0.1232 - val_accuracy: 0.8350\n",
            "Epoch 26/200\n",
            "25/25 [==============================] - 0s 3ms/step - loss: 0.1219 - accuracy: 0.8193 - val_loss: 0.1232 - val_accuracy: 0.8550\n",
            "Epoch 27/200\n",
            "25/25 [==============================] - 0s 3ms/step - loss: 0.1211 - accuracy: 0.8203 - val_loss: 0.1345 - val_accuracy: 0.7800\n",
            "Epoch 28/200\n",
            "25/25 [==============================] - 0s 3ms/step - loss: 0.1129 - accuracy: 0.8310 - val_loss: 0.1297 - val_accuracy: 0.7900\n",
            "Epoch 29/200\n",
            "25/25 [==============================] - 0s 3ms/step - loss: 0.1082 - accuracy: 0.8306 - val_loss: 0.1230 - val_accuracy: 0.8300\n",
            "Epoch 30/200\n",
            "25/25 [==============================] - 0s 4ms/step - loss: 0.1189 - accuracy: 0.8219 - val_loss: 0.1255 - val_accuracy: 0.8250\n",
            "Epoch 31/200\n",
            "25/25 [==============================] - 0s 4ms/step - loss: 0.1082 - accuracy: 0.8328 - val_loss: 0.1211 - val_accuracy: 0.8100\n",
            "Epoch 32/200\n",
            "25/25 [==============================] - 0s 4ms/step - loss: 0.1161 - accuracy: 0.8506 - val_loss: 0.1198 - val_accuracy: 0.8250\n",
            "Epoch 33/200\n",
            "25/25 [==============================] - 0s 3ms/step - loss: 0.1090 - accuracy: 0.8433 - val_loss: 0.1206 - val_accuracy: 0.8350\n",
            "Epoch 34/200\n",
            "25/25 [==============================] - 0s 3ms/step - loss: 0.1092 - accuracy: 0.8348 - val_loss: 0.1204 - val_accuracy: 0.8350\n",
            "Epoch 35/200\n",
            "25/25 [==============================] - 0s 4ms/step - loss: 0.1172 - accuracy: 0.8175 - val_loss: 0.1269 - val_accuracy: 0.8050\n",
            "Epoch 36/200\n",
            "25/25 [==============================] - 0s 4ms/step - loss: 0.1127 - accuracy: 0.8284 - val_loss: 0.1114 - val_accuracy: 0.8650\n",
            "Epoch 37/200\n",
            "25/25 [==============================] - 0s 4ms/step - loss: 0.0946 - accuracy: 0.8760 - val_loss: 0.1068 - val_accuracy: 0.8500\n",
            "Epoch 38/200\n",
            "25/25 [==============================] - 0s 4ms/step - loss: 0.0997 - accuracy: 0.8577 - val_loss: 0.1095 - val_accuracy: 0.8350\n",
            "Epoch 39/200\n",
            "25/25 [==============================] - 0s 4ms/step - loss: 0.0975 - accuracy: 0.8658 - val_loss: 0.1007 - val_accuracy: 0.8650\n",
            "Epoch 40/200\n",
            "25/25 [==============================] - 0s 4ms/step - loss: 0.0958 - accuracy: 0.8506 - val_loss: 0.0938 - val_accuracy: 0.8950\n",
            "Epoch 41/200\n",
            "25/25 [==============================] - 0s 4ms/step - loss: 0.0870 - accuracy: 0.8959 - val_loss: 0.0859 - val_accuracy: 0.9050\n",
            "Epoch 42/200\n",
            "25/25 [==============================] - 0s 4ms/step - loss: 0.0746 - accuracy: 0.9234 - val_loss: 0.0795 - val_accuracy: 0.9200\n",
            "Epoch 43/200\n",
            "25/25 [==============================] - 0s 3ms/step - loss: 0.0809 - accuracy: 0.9099 - val_loss: 0.0718 - val_accuracy: 0.9150\n",
            "Epoch 44/200\n",
            "25/25 [==============================] - 0s 3ms/step - loss: 0.0655 - accuracy: 0.9346 - val_loss: 0.0668 - val_accuracy: 0.9050\n",
            "Epoch 45/200\n",
            "25/25 [==============================] - 0s 3ms/step - loss: 0.0596 - accuracy: 0.9338 - val_loss: 0.0639 - val_accuracy: 0.9150\n",
            "Epoch 46/200\n",
            "25/25 [==============================] - 0s 4ms/step - loss: 0.0558 - accuracy: 0.9411 - val_loss: 0.0600 - val_accuracy: 0.9250\n",
            "Epoch 47/200\n",
            "25/25 [==============================] - 0s 3ms/step - loss: 0.0501 - accuracy: 0.9529 - val_loss: 0.0585 - val_accuracy: 0.9150\n",
            "Epoch 48/200\n",
            "25/25 [==============================] - 0s 4ms/step - loss: 0.0485 - accuracy: 0.9502 - val_loss: 0.0608 - val_accuracy: 0.9150\n",
            "Epoch 49/200\n",
            "25/25 [==============================] - 0s 3ms/step - loss: 0.0527 - accuracy: 0.9362 - val_loss: 0.0578 - val_accuracy: 0.9200\n",
            "Epoch 50/200\n",
            "25/25 [==============================] - 0s 3ms/step - loss: 0.0461 - accuracy: 0.9497 - val_loss: 0.0547 - val_accuracy: 0.9350\n",
            "Epoch 51/200\n",
            "25/25 [==============================] - 0s 4ms/step - loss: 0.0501 - accuracy: 0.9415 - val_loss: 0.0565 - val_accuracy: 0.9250\n",
            "Epoch 52/200\n",
            "25/25 [==============================] - 0s 4ms/step - loss: 0.0485 - accuracy: 0.9328 - val_loss: 0.0570 - val_accuracy: 0.9200\n",
            "Epoch 53/200\n",
            "25/25 [==============================] - 0s 4ms/step - loss: 0.0444 - accuracy: 0.9437 - val_loss: 0.0525 - val_accuracy: 0.9300\n",
            "Epoch 54/200\n",
            "25/25 [==============================] - 0s 4ms/step - loss: 0.0472 - accuracy: 0.9454 - val_loss: 0.0531 - val_accuracy: 0.9350\n",
            "Epoch 55/200\n",
            "25/25 [==============================] - 0s 4ms/step - loss: 0.0477 - accuracy: 0.9452 - val_loss: 0.0526 - val_accuracy: 0.9250\n",
            "Epoch 56/200\n",
            "25/25 [==============================] - 0s 4ms/step - loss: 0.0413 - accuracy: 0.9560 - val_loss: 0.0535 - val_accuracy: 0.9300\n",
            "Epoch 57/200\n",
            "25/25 [==============================] - 0s 3ms/step - loss: 0.0417 - accuracy: 0.9407 - val_loss: 0.0530 - val_accuracy: 0.9350\n",
            "Epoch 58/200\n",
            "25/25 [==============================] - 0s 3ms/step - loss: 0.0458 - accuracy: 0.9408 - val_loss: 0.0543 - val_accuracy: 0.9200\n",
            "Epoch 59/200\n",
            "25/25 [==============================] - 0s 3ms/step - loss: 0.0538 - accuracy: 0.9303 - val_loss: 0.0574 - val_accuracy: 0.9200\n",
            "Epoch 60/200\n",
            "25/25 [==============================] - 0s 3ms/step - loss: 0.0508 - accuracy: 0.9330 - val_loss: 0.0541 - val_accuracy: 0.9250\n",
            "Epoch 61/200\n",
            "25/25 [==============================] - 0s 3ms/step - loss: 0.0492 - accuracy: 0.9400 - val_loss: 0.0539 - val_accuracy: 0.9250\n",
            "Epoch 62/200\n",
            "25/25 [==============================] - 0s 4ms/step - loss: 0.0455 - accuracy: 0.9413 - val_loss: 0.0583 - val_accuracy: 0.9100\n",
            "Epoch 63/200\n",
            "25/25 [==============================] - 0s 4ms/step - loss: 0.0450 - accuracy: 0.9548 - val_loss: 0.0576 - val_accuracy: 0.9200\n",
            "Epoch 64/200\n",
            "25/25 [==============================] - 0s 5ms/step - loss: 0.0460 - accuracy: 0.9404 - val_loss: 0.0528 - val_accuracy: 0.9300\n",
            "Epoch 65/200\n",
            "25/25 [==============================] - 0s 3ms/step - loss: 0.0426 - accuracy: 0.9445 - val_loss: 0.0512 - val_accuracy: 0.9300\n",
            "Epoch 66/200\n",
            "25/25 [==============================] - 0s 3ms/step - loss: 0.0494 - accuracy: 0.9413 - val_loss: 0.0535 - val_accuracy: 0.9200\n",
            "Epoch 67/200\n",
            "25/25 [==============================] - 0s 3ms/step - loss: 0.0427 - accuracy: 0.9470 - val_loss: 0.0505 - val_accuracy: 0.9300\n",
            "Epoch 68/200\n",
            "25/25 [==============================] - 0s 3ms/step - loss: 0.0424 - accuracy: 0.9546 - val_loss: 0.0495 - val_accuracy: 0.9350\n",
            "Epoch 69/200\n",
            "25/25 [==============================] - 0s 3ms/step - loss: 0.0472 - accuracy: 0.9368 - val_loss: 0.0501 - val_accuracy: 0.9350\n",
            "Epoch 70/200\n",
            "25/25 [==============================] - 0s 3ms/step - loss: 0.0421 - accuracy: 0.9532 - val_loss: 0.0501 - val_accuracy: 0.9250\n",
            "Epoch 71/200\n",
            "25/25 [==============================] - 0s 4ms/step - loss: 0.0442 - accuracy: 0.9472 - val_loss: 0.0540 - val_accuracy: 0.9300\n",
            "Epoch 72/200\n",
            "25/25 [==============================] - 0s 5ms/step - loss: 0.0413 - accuracy: 0.9576 - val_loss: 0.0524 - val_accuracy: 0.9300\n",
            "Epoch 73/200\n",
            "25/25 [==============================] - 0s 5ms/step - loss: 0.0388 - accuracy: 0.9572 - val_loss: 0.0587 - val_accuracy: 0.9150\n",
            "Epoch 74/200\n",
            "25/25 [==============================] - 0s 4ms/step - loss: 0.0413 - accuracy: 0.9471 - val_loss: 0.0511 - val_accuracy: 0.9400\n",
            "Epoch 75/200\n",
            "25/25 [==============================] - 0s 4ms/step - loss: 0.0411 - accuracy: 0.9431 - val_loss: 0.0499 - val_accuracy: 0.9300\n",
            "Epoch 76/200\n",
            "25/25 [==============================] - 0s 5ms/step - loss: 0.0447 - accuracy: 0.9554 - val_loss: 0.0513 - val_accuracy: 0.9350\n",
            "Epoch 77/200\n",
            "25/25 [==============================] - 0s 4ms/step - loss: 0.0465 - accuracy: 0.9371 - val_loss: 0.0513 - val_accuracy: 0.9150\n",
            "Epoch 78/200\n",
            "25/25 [==============================] - 0s 4ms/step - loss: 0.0427 - accuracy: 0.9495 - val_loss: 0.0483 - val_accuracy: 0.9350\n",
            "Epoch 79/200\n",
            "25/25 [==============================] - 0s 4ms/step - loss: 0.0420 - accuracy: 0.9600 - val_loss: 0.0481 - val_accuracy: 0.9400\n",
            "Epoch 80/200\n",
            "25/25 [==============================] - 0s 4ms/step - loss: 0.0468 - accuracy: 0.9442 - val_loss: 0.0489 - val_accuracy: 0.9400\n",
            "Epoch 81/200\n",
            "25/25 [==============================] - 0s 4ms/step - loss: 0.0473 - accuracy: 0.9343 - val_loss: 0.0533 - val_accuracy: 0.9400\n",
            "Epoch 82/200\n",
            "25/25 [==============================] - 0s 4ms/step - loss: 0.0408 - accuracy: 0.9518 - val_loss: 0.0545 - val_accuracy: 0.9250\n",
            "Epoch 83/200\n",
            "25/25 [==============================] - 0s 3ms/step - loss: 0.0363 - accuracy: 0.9598 - val_loss: 0.0517 - val_accuracy: 0.9200\n",
            "Epoch 84/200\n",
            "25/25 [==============================] - 0s 4ms/step - loss: 0.0406 - accuracy: 0.9402 - val_loss: 0.0503 - val_accuracy: 0.9400\n",
            "Epoch 85/200\n",
            "25/25 [==============================] - 0s 4ms/step - loss: 0.0372 - accuracy: 0.9618 - val_loss: 0.0490 - val_accuracy: 0.9450\n",
            "Epoch 86/200\n",
            "25/25 [==============================] - 0s 4ms/step - loss: 0.0344 - accuracy: 0.9639 - val_loss: 0.0496 - val_accuracy: 0.9350\n",
            "Epoch 87/200\n",
            "25/25 [==============================] - 0s 4ms/step - loss: 0.0449 - accuracy: 0.9440 - val_loss: 0.0467 - val_accuracy: 0.9400\n",
            "Epoch 88/200\n",
            "25/25 [==============================] - 0s 4ms/step - loss: 0.0380 - accuracy: 0.9591 - val_loss: 0.0498 - val_accuracy: 0.9200\n",
            "Epoch 89/200\n",
            "25/25 [==============================] - 0s 4ms/step - loss: 0.0402 - accuracy: 0.9408 - val_loss: 0.0516 - val_accuracy: 0.9300\n",
            "Epoch 90/200\n",
            "25/25 [==============================] - 0s 4ms/step - loss: 0.0387 - accuracy: 0.9600 - val_loss: 0.0470 - val_accuracy: 0.9500\n",
            "Epoch 91/200\n",
            "25/25 [==============================] - 0s 3ms/step - loss: 0.0323 - accuracy: 0.9734 - val_loss: 0.0489 - val_accuracy: 0.9200\n",
            "Epoch 92/200\n",
            "25/25 [==============================] - 0s 4ms/step - loss: 0.0340 - accuracy: 0.9592 - val_loss: 0.0467 - val_accuracy: 0.9300\n",
            "Epoch 93/200\n",
            "25/25 [==============================] - 0s 4ms/step - loss: 0.0351 - accuracy: 0.9583 - val_loss: 0.0458 - val_accuracy: 0.9500\n",
            "Epoch 94/200\n",
            "25/25 [==============================] - 0s 4ms/step - loss: 0.0367 - accuracy: 0.9523 - val_loss: 0.0467 - val_accuracy: 0.9350\n",
            "Epoch 95/200\n",
            "25/25 [==============================] - 0s 4ms/step - loss: 0.0330 - accuracy: 0.9609 - val_loss: 0.0457 - val_accuracy: 0.9350\n",
            "Epoch 96/200\n",
            "25/25 [==============================] - 0s 4ms/step - loss: 0.0360 - accuracy: 0.9614 - val_loss: 0.0445 - val_accuracy: 0.9350\n",
            "Epoch 97/200\n",
            "25/25 [==============================] - 0s 3ms/step - loss: 0.0310 - accuracy: 0.9705 - val_loss: 0.0452 - val_accuracy: 0.9350\n",
            "Epoch 98/200\n",
            "25/25 [==============================] - 0s 3ms/step - loss: 0.0357 - accuracy: 0.9664 - val_loss: 0.0454 - val_accuracy: 0.9450\n",
            "Epoch 99/200\n",
            "25/25 [==============================] - 0s 3ms/step - loss: 0.0325 - accuracy: 0.9666 - val_loss: 0.0465 - val_accuracy: 0.9400\n",
            "Epoch 100/200\n",
            "25/25 [==============================] - 0s 3ms/step - loss: 0.0353 - accuracy: 0.9535 - val_loss: 0.0467 - val_accuracy: 0.9450\n",
            "Epoch 101/200\n",
            "25/25 [==============================] - 0s 3ms/step - loss: 0.0360 - accuracy: 0.9641 - val_loss: 0.0447 - val_accuracy: 0.9450\n",
            "Epoch 102/200\n",
            "25/25 [==============================] - 0s 4ms/step - loss: 0.0359 - accuracy: 0.9567 - val_loss: 0.0469 - val_accuracy: 0.9350\n",
            "Epoch 103/200\n",
            "25/25 [==============================] - 0s 3ms/step - loss: 0.0330 - accuracy: 0.9625 - val_loss: 0.0438 - val_accuracy: 0.9500\n",
            "Epoch 104/200\n",
            "25/25 [==============================] - 0s 4ms/step - loss: 0.0365 - accuracy: 0.9499 - val_loss: 0.0462 - val_accuracy: 0.9250\n",
            "Epoch 105/200\n",
            "25/25 [==============================] - 0s 3ms/step - loss: 0.0335 - accuracy: 0.9571 - val_loss: 0.0434 - val_accuracy: 0.9450\n",
            "Epoch 106/200\n",
            "25/25 [==============================] - 0s 3ms/step - loss: 0.0386 - accuracy: 0.9509 - val_loss: 0.0436 - val_accuracy: 0.9450\n",
            "Epoch 107/200\n",
            "25/25 [==============================] - 0s 4ms/step - loss: 0.0368 - accuracy: 0.9529 - val_loss: 0.0436 - val_accuracy: 0.9500\n",
            "Epoch 108/200\n",
            "25/25 [==============================] - 0s 3ms/step - loss: 0.0317 - accuracy: 0.9588 - val_loss: 0.0426 - val_accuracy: 0.9550\n",
            "Epoch 109/200\n",
            "25/25 [==============================] - 0s 3ms/step - loss: 0.0302 - accuracy: 0.9649 - val_loss: 0.0440 - val_accuracy: 0.9350\n",
            "Epoch 110/200\n",
            "25/25 [==============================] - 0s 4ms/step - loss: 0.0371 - accuracy: 0.9559 - val_loss: 0.0417 - val_accuracy: 0.9450\n",
            "Epoch 111/200\n",
            "25/25 [==============================] - 0s 4ms/step - loss: 0.0389 - accuracy: 0.9505 - val_loss: 0.0455 - val_accuracy: 0.9350\n",
            "Epoch 112/200\n",
            "25/25 [==============================] - 0s 4ms/step - loss: 0.0372 - accuracy: 0.9532 - val_loss: 0.0516 - val_accuracy: 0.9350\n",
            "Epoch 113/200\n",
            "25/25 [==============================] - 0s 4ms/step - loss: 0.0309 - accuracy: 0.9654 - val_loss: 0.0418 - val_accuracy: 0.9450\n",
            "Epoch 114/200\n",
            "25/25 [==============================] - 0s 4ms/step - loss: 0.0339 - accuracy: 0.9577 - val_loss: 0.0402 - val_accuracy: 0.9500\n",
            "Epoch 115/200\n",
            "25/25 [==============================] - 0s 3ms/step - loss: 0.0361 - accuracy: 0.9622 - val_loss: 0.0407 - val_accuracy: 0.9500\n",
            "Epoch 116/200\n",
            "25/25 [==============================] - 0s 4ms/step - loss: 0.0349 - accuracy: 0.9602 - val_loss: 0.0426 - val_accuracy: 0.9500\n",
            "Epoch 117/200\n",
            "25/25 [==============================] - 0s 4ms/step - loss: 0.0305 - accuracy: 0.9660 - val_loss: 0.0441 - val_accuracy: 0.9250\n",
            "Epoch 118/200\n",
            "25/25 [==============================] - 0s 3ms/step - loss: 0.0343 - accuracy: 0.9558 - val_loss: 0.0399 - val_accuracy: 0.9450\n",
            "Epoch 119/200\n",
            "25/25 [==============================] - 0s 3ms/step - loss: 0.0280 - accuracy: 0.9706 - val_loss: 0.0417 - val_accuracy: 0.9500\n",
            "Epoch 120/200\n",
            "25/25 [==============================] - 0s 4ms/step - loss: 0.0326 - accuracy: 0.9628 - val_loss: 0.0399 - val_accuracy: 0.9450\n",
            "Epoch 121/200\n",
            "25/25 [==============================] - 0s 3ms/step - loss: 0.0326 - accuracy: 0.9632 - val_loss: 0.0381 - val_accuracy: 0.9550\n",
            "Epoch 122/200\n",
            "25/25 [==============================] - 0s 3ms/step - loss: 0.0322 - accuracy: 0.9564 - val_loss: 0.0443 - val_accuracy: 0.9350\n",
            "Epoch 123/200\n",
            "25/25 [==============================] - 0s 4ms/step - loss: 0.0322 - accuracy: 0.9609 - val_loss: 0.0395 - val_accuracy: 0.9400\n",
            "Epoch 124/200\n",
            "25/25 [==============================] - 0s 4ms/step - loss: 0.0309 - accuracy: 0.9573 - val_loss: 0.0393 - val_accuracy: 0.9450\n",
            "Epoch 125/200\n",
            "25/25 [==============================] - 0s 4ms/step - loss: 0.0312 - accuracy: 0.9711 - val_loss: 0.0438 - val_accuracy: 0.9250\n",
            "Epoch 126/200\n",
            "25/25 [==============================] - 0s 4ms/step - loss: 0.0360 - accuracy: 0.9632 - val_loss: 0.0424 - val_accuracy: 0.9450\n",
            "Epoch 127/200\n",
            "25/25 [==============================] - 0s 3ms/step - loss: 0.0300 - accuracy: 0.9637 - val_loss: 0.0383 - val_accuracy: 0.9500\n",
            "Epoch 128/200\n",
            "25/25 [==============================] - 0s 3ms/step - loss: 0.0305 - accuracy: 0.9614 - val_loss: 0.0384 - val_accuracy: 0.9500\n",
            "Epoch 129/200\n",
            "25/25 [==============================] - 0s 4ms/step - loss: 0.0332 - accuracy: 0.9578 - val_loss: 0.0411 - val_accuracy: 0.9500\n",
            "Epoch 130/200\n",
            "25/25 [==============================] - 0s 3ms/step - loss: 0.0340 - accuracy: 0.9547 - val_loss: 0.0381 - val_accuracy: 0.9450\n",
            "Epoch 131/200\n",
            "25/25 [==============================] - 0s 4ms/step - loss: 0.0341 - accuracy: 0.9556 - val_loss: 0.0375 - val_accuracy: 0.9500\n",
            "Epoch 132/200\n",
            "25/25 [==============================] - 0s 4ms/step - loss: 0.0255 - accuracy: 0.9734 - val_loss: 0.0366 - val_accuracy: 0.9600\n",
            "Epoch 133/200\n",
            "25/25 [==============================] - 0s 4ms/step - loss: 0.0319 - accuracy: 0.9683 - val_loss: 0.0392 - val_accuracy: 0.9500\n",
            "Epoch 134/200\n",
            "25/25 [==============================] - 0s 4ms/step - loss: 0.0326 - accuracy: 0.9597 - val_loss: 0.0366 - val_accuracy: 0.9550\n",
            "Epoch 135/200\n",
            "25/25 [==============================] - 0s 4ms/step - loss: 0.0289 - accuracy: 0.9649 - val_loss: 0.0431 - val_accuracy: 0.9450\n",
            "Epoch 136/200\n",
            "25/25 [==============================] - 0s 4ms/step - loss: 0.0395 - accuracy: 0.9388 - val_loss: 0.0356 - val_accuracy: 0.9400\n",
            "Epoch 137/200\n",
            "25/25 [==============================] - 0s 4ms/step - loss: 0.0237 - accuracy: 0.9750 - val_loss: 0.0352 - val_accuracy: 0.9550\n",
            "Epoch 138/200\n",
            "25/25 [==============================] - 0s 4ms/step - loss: 0.0367 - accuracy: 0.9519 - val_loss: 0.0356 - val_accuracy: 0.9550\n",
            "Epoch 139/200\n",
            "25/25 [==============================] - 0s 3ms/step - loss: 0.0296 - accuracy: 0.9603 - val_loss: 0.0339 - val_accuracy: 0.9500\n",
            "Epoch 140/200\n",
            "25/25 [==============================] - 0s 4ms/step - loss: 0.0279 - accuracy: 0.9713 - val_loss: 0.0351 - val_accuracy: 0.9550\n",
            "Epoch 141/200\n",
            "25/25 [==============================] - 0s 4ms/step - loss: 0.0259 - accuracy: 0.9694 - val_loss: 0.0334 - val_accuracy: 0.9600\n",
            "Epoch 142/200\n",
            "25/25 [==============================] - 0s 3ms/step - loss: 0.0300 - accuracy: 0.9672 - val_loss: 0.0335 - val_accuracy: 0.9500\n",
            "Epoch 143/200\n",
            "25/25 [==============================] - 0s 4ms/step - loss: 0.0263 - accuracy: 0.9680 - val_loss: 0.0464 - val_accuracy: 0.9350\n",
            "Epoch 144/200\n",
            "25/25 [==============================] - 0s 4ms/step - loss: 0.0336 - accuracy: 0.9582 - val_loss: 0.0358 - val_accuracy: 0.9500\n",
            "Epoch 145/200\n",
            "25/25 [==============================] - 0s 4ms/step - loss: 0.0252 - accuracy: 0.9658 - val_loss: 0.0341 - val_accuracy: 0.9600\n",
            "Epoch 146/200\n",
            "25/25 [==============================] - 0s 3ms/step - loss: 0.0255 - accuracy: 0.9760 - val_loss: 0.0338 - val_accuracy: 0.9550\n",
            "Epoch 147/200\n",
            "25/25 [==============================] - 0s 4ms/step - loss: 0.0296 - accuracy: 0.9694 - val_loss: 0.0349 - val_accuracy: 0.9500\n",
            "Epoch 148/200\n",
            "25/25 [==============================] - 0s 3ms/step - loss: 0.0278 - accuracy: 0.9738 - val_loss: 0.0323 - val_accuracy: 0.9700\n",
            "Epoch 149/200\n",
            "25/25 [==============================] - 0s 3ms/step - loss: 0.0304 - accuracy: 0.9619 - val_loss: 0.0362 - val_accuracy: 0.9600\n",
            "Epoch 150/200\n",
            "25/25 [==============================] - 0s 3ms/step - loss: 0.0325 - accuracy: 0.9590 - val_loss: 0.0339 - val_accuracy: 0.9650\n",
            "Epoch 151/200\n",
            "25/25 [==============================] - 0s 4ms/step - loss: 0.0240 - accuracy: 0.9655 - val_loss: 0.0351 - val_accuracy: 0.9600\n",
            "Epoch 152/200\n",
            "25/25 [==============================] - 0s 3ms/step - loss: 0.0313 - accuracy: 0.9595 - val_loss: 0.0328 - val_accuracy: 0.9550\n",
            "Epoch 153/200\n",
            "25/25 [==============================] - 0s 3ms/step - loss: 0.0266 - accuracy: 0.9695 - val_loss: 0.0323 - val_accuracy: 0.9650\n",
            "Epoch 154/200\n",
            "25/25 [==============================] - 0s 3ms/step - loss: 0.0361 - accuracy: 0.9462 - val_loss: 0.0306 - val_accuracy: 0.9650\n",
            "Epoch 155/200\n",
            "25/25 [==============================] - 0s 4ms/step - loss: 0.0230 - accuracy: 0.9733 - val_loss: 0.0337 - val_accuracy: 0.9600\n",
            "Epoch 156/200\n",
            "25/25 [==============================] - 0s 4ms/step - loss: 0.0261 - accuracy: 0.9711 - val_loss: 0.0309 - val_accuracy: 0.9550\n",
            "Epoch 157/200\n",
            "25/25 [==============================] - 0s 3ms/step - loss: 0.0308 - accuracy: 0.9562 - val_loss: 0.0340 - val_accuracy: 0.9650\n",
            "Epoch 158/200\n",
            "25/25 [==============================] - 0s 4ms/step - loss: 0.0261 - accuracy: 0.9663 - val_loss: 0.0311 - val_accuracy: 0.9700\n",
            "Epoch 159/200\n",
            "25/25 [==============================] - 0s 4ms/step - loss: 0.0331 - accuracy: 0.9620 - val_loss: 0.0318 - val_accuracy: 0.9650\n",
            "Epoch 160/200\n",
            "25/25 [==============================] - 0s 4ms/step - loss: 0.0273 - accuracy: 0.9702 - val_loss: 0.0345 - val_accuracy: 0.9500\n",
            "Epoch 161/200\n",
            "25/25 [==============================] - 0s 4ms/step - loss: 0.0239 - accuracy: 0.9677 - val_loss: 0.0284 - val_accuracy: 0.9750\n",
            "Epoch 162/200\n",
            "25/25 [==============================] - 0s 3ms/step - loss: 0.0274 - accuracy: 0.9721 - val_loss: 0.0311 - val_accuracy: 0.9600\n",
            "Epoch 163/200\n",
            "25/25 [==============================] - 0s 4ms/step - loss: 0.0241 - accuracy: 0.9701 - val_loss: 0.0309 - val_accuracy: 0.9700\n",
            "Epoch 164/200\n",
            "25/25 [==============================] - 0s 4ms/step - loss: 0.0254 - accuracy: 0.9682 - val_loss: 0.0312 - val_accuracy: 0.9650\n",
            "Epoch 165/200\n",
            "25/25 [==============================] - 0s 4ms/step - loss: 0.0291 - accuracy: 0.9602 - val_loss: 0.0301 - val_accuracy: 0.9750\n",
            "Epoch 166/200\n",
            "25/25 [==============================] - 0s 4ms/step - loss: 0.0243 - accuracy: 0.9750 - val_loss: 0.0277 - val_accuracy: 0.9700\n",
            "Epoch 167/200\n",
            "25/25 [==============================] - 0s 3ms/step - loss: 0.0249 - accuracy: 0.9719 - val_loss: 0.0303 - val_accuracy: 0.9600\n",
            "Epoch 168/200\n",
            "25/25 [==============================] - 0s 4ms/step - loss: 0.0271 - accuracy: 0.9725 - val_loss: 0.0295 - val_accuracy: 0.9650\n",
            "Epoch 169/200\n",
            "25/25 [==============================] - 0s 5ms/step - loss: 0.0219 - accuracy: 0.9791 - val_loss: 0.0282 - val_accuracy: 0.9650\n",
            "Epoch 170/200\n",
            "25/25 [==============================] - 0s 4ms/step - loss: 0.0263 - accuracy: 0.9604 - val_loss: 0.0272 - val_accuracy: 0.9700\n",
            "Epoch 171/200\n",
            "25/25 [==============================] - 0s 4ms/step - loss: 0.0223 - accuracy: 0.9733 - val_loss: 0.0270 - val_accuracy: 0.9700\n",
            "Epoch 172/200\n",
            "25/25 [==============================] - 0s 3ms/step - loss: 0.0195 - accuracy: 0.9846 - val_loss: 0.0286 - val_accuracy: 0.9750\n",
            "Epoch 173/200\n",
            "25/25 [==============================] - 0s 4ms/step - loss: 0.0215 - accuracy: 0.9838 - val_loss: 0.0280 - val_accuracy: 0.9600\n",
            "Epoch 174/200\n",
            "25/25 [==============================] - 0s 4ms/step - loss: 0.0228 - accuracy: 0.9709 - val_loss: 0.0264 - val_accuracy: 0.9700\n",
            "Epoch 175/200\n",
            "25/25 [==============================] - 0s 4ms/step - loss: 0.0189 - accuracy: 0.9815 - val_loss: 0.0299 - val_accuracy: 0.9650\n",
            "Epoch 176/200\n",
            "25/25 [==============================] - 0s 4ms/step - loss: 0.0229 - accuracy: 0.9730 - val_loss: 0.0284 - val_accuracy: 0.9750\n",
            "Epoch 177/200\n",
            "25/25 [==============================] - 0s 3ms/step - loss: 0.0197 - accuracy: 0.9819 - val_loss: 0.0282 - val_accuracy: 0.9550\n",
            "Epoch 178/200\n",
            "25/25 [==============================] - 0s 4ms/step - loss: 0.0207 - accuracy: 0.9801 - val_loss: 0.0285 - val_accuracy: 0.9650\n",
            "Epoch 179/200\n",
            "25/25 [==============================] - 0s 4ms/step - loss: 0.0228 - accuracy: 0.9723 - val_loss: 0.0301 - val_accuracy: 0.9700\n",
            "Epoch 180/200\n",
            "25/25 [==============================] - 0s 4ms/step - loss: 0.0235 - accuracy: 0.9715 - val_loss: 0.0274 - val_accuracy: 0.9700\n",
            "Epoch 181/200\n",
            "25/25 [==============================] - 0s 4ms/step - loss: 0.0241 - accuracy: 0.9719 - val_loss: 0.0267 - val_accuracy: 0.9650\n",
            "Epoch 182/200\n",
            "25/25 [==============================] - 0s 3ms/step - loss: 0.0203 - accuracy: 0.9757 - val_loss: 0.0257 - val_accuracy: 0.9650\n",
            "Epoch 183/200\n",
            "25/25 [==============================] - 0s 5ms/step - loss: 0.0211 - accuracy: 0.9749 - val_loss: 0.0286 - val_accuracy: 0.9550\n",
            "Epoch 184/200\n",
            "25/25 [==============================] - 0s 4ms/step - loss: 0.0234 - accuracy: 0.9713 - val_loss: 0.0242 - val_accuracy: 0.9800\n",
            "Epoch 185/200\n",
            "25/25 [==============================] - 0s 4ms/step - loss: 0.0243 - accuracy: 0.9697 - val_loss: 0.0280 - val_accuracy: 0.9700\n",
            "Epoch 186/200\n",
            "25/25 [==============================] - 0s 4ms/step - loss: 0.0224 - accuracy: 0.9725 - val_loss: 0.0312 - val_accuracy: 0.9600\n",
            "Epoch 187/200\n",
            "25/25 [==============================] - 0s 3ms/step - loss: 0.0246 - accuracy: 0.9649 - val_loss: 0.0250 - val_accuracy: 0.9650\n",
            "Epoch 188/200\n",
            "25/25 [==============================] - 0s 4ms/step - loss: 0.0199 - accuracy: 0.9733 - val_loss: 0.0248 - val_accuracy: 0.9650\n",
            "Epoch 189/200\n",
            "25/25 [==============================] - 0s 3ms/step - loss: 0.0168 - accuracy: 0.9864 - val_loss: 0.0272 - val_accuracy: 0.9650\n",
            "Epoch 190/200\n",
            "25/25 [==============================] - 0s 4ms/step - loss: 0.0197 - accuracy: 0.9829 - val_loss: 0.0258 - val_accuracy: 0.9750\n",
            "Epoch 191/200\n",
            "25/25 [==============================] - 0s 4ms/step - loss: 0.0203 - accuracy: 0.9799 - val_loss: 0.0249 - val_accuracy: 0.9750\n",
            "Epoch 192/200\n",
            "25/25 [==============================] - 0s 5ms/step - loss: 0.0217 - accuracy: 0.9799 - val_loss: 0.0231 - val_accuracy: 0.9800\n",
            "Epoch 193/200\n",
            "25/25 [==============================] - 0s 4ms/step - loss: 0.0167 - accuracy: 0.9827 - val_loss: 0.0243 - val_accuracy: 0.9750\n",
            "Epoch 194/200\n",
            "25/25 [==============================] - 0s 3ms/step - loss: 0.0167 - accuracy: 0.9841 - val_loss: 0.0246 - val_accuracy: 0.9700\n",
            "Epoch 195/200\n",
            "25/25 [==============================] - 0s 4ms/step - loss: 0.0151 - accuracy: 0.9850 - val_loss: 0.0276 - val_accuracy: 0.9650\n",
            "Epoch 196/200\n",
            "25/25 [==============================] - 0s 3ms/step - loss: 0.0159 - accuracy: 0.9774 - val_loss: 0.0268 - val_accuracy: 0.9600\n",
            "Epoch 197/200\n",
            "25/25 [==============================] - 0s 3ms/step - loss: 0.0189 - accuracy: 0.9794 - val_loss: 0.0243 - val_accuracy: 0.9750\n",
            "Epoch 198/200\n",
            "25/25 [==============================] - 0s 3ms/step - loss: 0.0148 - accuracy: 0.9827 - val_loss: 0.0242 - val_accuracy: 0.9700\n",
            "Epoch 199/200\n",
            "25/25 [==============================] - 0s 4ms/step - loss: 0.0237 - accuracy: 0.9746 - val_loss: 0.0230 - val_accuracy: 0.9800\n",
            "Epoch 200/200\n",
            "25/25 [==============================] - 0s 4ms/step - loss: 0.0211 - accuracy: 0.9804 - val_loss: 0.0254 - val_accuracy: 0.9700\n"
          ],
          "name": "stdout"
        }
      ]
    },
    {
      "cell_type": "code",
      "metadata": {
        "colab": {
          "base_uri": "https://localhost:8080/",
          "height": 312
        },
        "id": "yZRwzaIi_iz7",
        "outputId": "8ea49e7c-5a12-4735-d4ab-98d00ab7625b"
      },
      "source": [
        "lossCurve = history.history[\"loss\"]\n",
        "plt.plot(lossCurve, label=\"Train\")\n",
        "# plt.legend(loc='upper right')\n",
        "plt.title(\"Loss function\")\n",
        "plt.xlabel(\"epoch number\")"
      ],
      "execution_count": 29,
      "outputs": [
        {
          "output_type": "execute_result",
          "data": {
            "text/plain": [
              "Text(0.5, 0, 'epoch number')"
            ]
          },
          "metadata": {
            "tags": []
          },
          "execution_count": 29
        },
        {
          "output_type": "display_data",
          "data": {
            "image/png": "[encoded data removed]",
            "text/plain": [
              "<Figure size 432x288 with 1 Axes>"
            ]
          },
          "metadata": {
            "tags": [],
            "needs_background": "light"
          }
        }
      ]
    },
    {
      "cell_type": "code",
      "metadata": {
        "colab": {
          "base_uri": "https://localhost:8080/",
          "height": 296
        },
        "id": "LR3Gz58iAeVQ",
        "outputId": "d89bc9cb-02e4-4212-fe46-90f33f9c8b6f"
      },
      "source": [
        "accuracyCurve = history.history['accuracy']\n",
        "plt.plot(accuracyCurve, label='Accuracy')\n",
        "#plt.legend(loc='upper right')\n",
        "plt.ylabel('accuracy')\n",
        "plt.xlabel('epoch number')"
      ],
      "execution_count": 30,
      "outputs": [
        {
          "output_type": "execute_result",
          "data": {
            "text/plain": [
              "Text(0.5, 0, 'epoch number')"
            ]
          },
          "metadata": {
            "tags": []
          },
          "execution_count": 30
        },
        {
          "output_type": "display_data",
          "data": {
            "image/png": "[encoded data removed]",
            "text/plain": [
              "<Figure size 432x288 with 1 Axes>"
            ]
          },
          "metadata": {
            "tags": [],
            "needs_background": "light"
          }
        }
      ]
    },
    {
      "cell_type": "markdown",
      "metadata": {
        "id": "EMcvVtB_BLig"
      },
      "source": [
        "Şimdi eğitimi tamamlamış çok katmanlı yapay sinir ağımızı test edelim."
      ]
    },
    {
      "cell_type": "code",
      "metadata": {
        "colab": {
          "base_uri": "https://localhost:8080/",
          "height": 312
        },
        "id": "ZGNtCU_OBYZO",
        "outputId": "f6b68df2-f125-48d1-a7e9-2f1f0cc2eda5"
      },
      "source": [
        "y = model.predict(x).round()\n",
        "plt.scatter(x[:,0],x[:,1], marker='.', color='b')\n",
        "# plt.legend(loc='upper right')\n",
        "plt.title(\"Generated 2d data\")\n",
        "plt.xlabel(\"x1\")\n",
        "plt.ylabel(\"x2\")\n",
        "\n",
        "for i, label in enumerate(t):\n",
        "  if (label != y[i]):\n",
        "    plt.scatter(x[i,0],x[i,1], marker='o', color='r') # edgecolors='none'\n",
        "plt.title(\"Generated 2d data\")\n",
        "plt.xlabel(\"x1\")\n",
        "plt.ylabel(\"x2\")"
      ],
      "execution_count": 31,
      "outputs": [
        {
          "output_type": "execute_result",
          "data": {
            "text/plain": [
              "Text(0, 0.5, 'x2')"
            ]
          },
          "metadata": {
            "tags": []
          },
          "execution_count": 31
        },
        {
          "output_type": "display_data",
          "data": {
            "image/png": "[encoded data removed]",
            "text/plain": [
              "<Figure size 432x288 with 1 Axes>"
            ]
          },
          "metadata": {
            "tags": [],
            "needs_background": "light"
          }
        }
      ]
    }
  ]
}